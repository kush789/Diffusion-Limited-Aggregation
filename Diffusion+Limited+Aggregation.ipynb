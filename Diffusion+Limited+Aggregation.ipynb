{
 "cells": [
  {
   "cell_type": "code",
   "execution_count": null,
   "metadata": {
    "collapsed": true
   },
   "outputs": [],
   "source": [
    "%matplotlib inline\n",
    "import matplotlib as plt\n",
    "import matplotlib.image as mpimg\n",
    "\n",
    "import numpy as np"
   ]
  },
  {
   "cell_type": "code",
   "execution_count": 8,
   "metadata": {
    "collapsed": false
   },
   "outputs": [],
   "source": [
    "class DLA():\n",
    "\n",
    "    def __init__(self, size):\n",
    "        self.size = size\n",
    "        self.state = np.zeros((size, size), dtype = int)\n",
    "        self.state[size / 2, size / 2] = 1\n",
    "        \n",
    "    def printState(self):\n",
    "        plt.pyplot.imshow(1 - self.state, cmap='gray')\n",
    "\n",
    "    def getSeed(self):\n",
    "        '''\n",
    "            Returns a randomly sampled initial position\n",
    "            for a particle. \n",
    "            Returns (x, y) tuple\n",
    "        '''\n",
    "        \n",
    "        p = int(np.random.rand() / 0.25)    # select edge\n",
    "        \n",
    "        possible = [(0, np.random.randint(self.size - 1)),               # Each edge has size - 1 points\n",
    "                    (np.random.randint(self.size - 1), self.size - 1),   # Corners shouldn't get double prob\n",
    "                    (self.size - 1, np.random.randint(1, self.size)), \n",
    "                    (np.random.randint(1, self.size), 0)]\n",
    "        \n",
    "        return possible[p]\n",
    "    \n",
    "    def getAdjacentPoints(self, curr):\n",
    "        '''\n",
    "            Returns points adjacent to curr within image bounds\n",
    "            Assumption : Adjacent includes diagonal neighbors (max 8)\n",
    "                            A|A|A\n",
    "                            A|X|A\n",
    "                            A|A|A\n",
    "                 \n",
    "            Input args:\n",
    "                curr : (x, y) tuple\n",
    "            Returns:\n",
    "                List of adjacent points\n",
    "        '''\n",
    "        \n",
    "        x, y = curr\n",
    "        adjacentPoints = [(x - 1, y - 1), (x - 1, y), (x - 1, y + 1),\n",
    "                          (x, y - 1),                 (x, y + 1),\n",
    "                          (x + 1, y - 1), (x + 1, y), (x + 1, y + 1)]\n",
    "        \n",
    "        # Remove points outside the image\n",
    "        adjacentPoints = filter(lambda x : x[0] > -1 and x[0] < self.size and \\\n",
    "                                           x[1] > -1 and x[1] < self.size, adjacentPoints)\n",
    "        return adjacentPoints\n",
    "    \n",
    "    def checkIfTerminate(self, curr):\n",
    "        '''\n",
    "            Check if curr sticks in image.\n",
    "            Will happen if any adjacent block is 1\n",
    "     \n",
    "            Input args:\n",
    "                curr : (x, y) tuple\n",
    "            Returns True/False\n",
    "        '''\n",
    "        adjacentPoints = self.getAdjacentPoints(curr)\n",
    "        return any(map(lambda x : self.state[x] == 1, adjacentPoints))\n",
    "    \n",
    "    def getNextPosition(self, curr):\n",
    "        \n",
    "        '''\n",
    "            Get next point. Brownian motion is order 1 markov process\n",
    "            \n",
    "            Input args:\n",
    "                curr : (x, y) tuple\n",
    "            Returns:\n",
    "                (x, y) coordinate of next position\n",
    "        '''\n",
    "\n",
    "        adjacentPoints = self.getAdjacentPoints(curr) # List of adjacent points\n",
    "        s = np.random.randint(len(adjacentPoints))    # Get random point\n",
    "        return adjacentPoints[s]\n",
    "\n",
    "        \n",
    "    def addPoint(self, numPoints = 1):\n",
    "\n",
    "        count = 0\n",
    "        while count < numPoints:\n",
    "            \n",
    "            if (count + 1) % 10 == 0:\n",
    "                print 'added', count + 1\n",
    "            \n",
    "            curr = self.getSeed() # Get initial position\n",
    "            while not self.checkIfTerminate(curr):\n",
    "                curr = self.getNextPosition(curr)\n",
    "            self.state[curr] = 1\n",
    "\n",
    "            count += 1\n",
    "        "
   ]
  },
  {
   "cell_type": "code",
   "execution_count": 9,
   "metadata": {
    "collapsed": true
   },
   "outputs": [],
   "source": [
    "dla = DLA(100)"
   ]
  },
  {
   "cell_type": "code",
   "execution_count": 10,
   "metadata": {
    "collapsed": false,
    "scrolled": true
   },
   "outputs": [
    {
     "name": "stdout",
     "output_type": "stream",
     "text": [
      "added 10\n",
      "added 20\n",
      "added 30\n",
      "added 40\n",
      "added 50\n",
      "added 60\n",
      "added 70\n",
      "added 80\n",
      "added 90\n",
      "added 100\n",
      "added 110\n",
      "added 120\n",
      "added 130\n",
      "added 140\n",
      "added 150\n",
      "added 160\n",
      "added 170\n",
      "added 180\n",
      "added 190\n",
      "added 200\n",
      "added 210\n",
      "added 220\n",
      "added 230\n",
      "added 240\n",
      "added 250\n",
      "added 260\n",
      "added 270\n",
      "added 280\n",
      "added 290\n",
      "added 300\n",
      "added 310\n",
      "added 320\n",
      "added 330\n",
      "added 340\n",
      "added 350\n",
      "added 360\n",
      "added 370\n",
      "added 380\n",
      "added 390\n",
      "added 400\n",
      "added 410\n",
      "added 420\n",
      "added 430\n",
      "added 440\n",
      "added 450\n",
      "added 460\n",
      "added 470\n",
      "added 480\n",
      "added 490\n",
      "added 500\n"
     ]
    }
   ],
   "source": [
    "dla.addPoint(500)"
   ]
  },
  {
   "cell_type": "code",
   "execution_count": 11,
   "metadata": {
    "collapsed": false,
    "scrolled": false
   },
   "outputs": [
    {
     "data": {
      "image/png": "[encoded data removed]",
      "text/plain": [
       "<matplotlib.figure.Figure at 0x10d141f10>"
      ]
     },
     "metadata": {},
     "output_type": "display_data"
    }
   ],
   "source": [
    "dla.printState()"
   ]
  }
 ],
 "metadata": {
  "kernelspec": {
   "display_name": "Python 2",
   "language": "python",
   "name": "python2"
  },
  "language_info": {
   "codemirror_mode": {
    "name": "ipython",
    "version": 2
   },
   "file_extension": ".py",
   "mimetype": "text/x-python",
   "name": "python",
   "nbconvert_exporter": "python",
   "pygments_lexer": "ipython2",
   "version": "2.7.11"
  }
 },
 "nbformat": 4,
 "nbformat_minor": 2
}
