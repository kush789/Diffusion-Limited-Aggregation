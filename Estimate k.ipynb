{
 "cells": [
  {
   "cell_type": "code",
   "execution_count": 15,
   "metadata": {},
   "outputs": [],
   "source": [
    "%matplotlib inline\n",
    "\n",
    "import numpy as np\n",
    "import joblib\n",
    "from collections import defaultdict\n",
    "\n",
    "from dlaClass import DLA"
   ]
  },
  {
   "cell_type": "markdown",
   "metadata": {},
   "source": [
    "### Loading data from simulations"
   ]
  },
  {
   "cell_type": "code",
   "execution_count": 25,
   "metadata": {},
   "outputs": [],
   "source": [
    "kVals = [\"0.038394755\", \"0.03710528\", \"0.035815805\", \"0.03452633\", \"0.033236855\", \"0.03194738\", \"0.030657905\", \"0.02936843\", \"0.028078955\", \"0.02678948\", \"0.02421053\", \"0.025500005\", \"0.022921055\", \"0.020342115\", \"0.02163158\", \"0.017763175\", \"0.01905265\", \"0.0164737\", \"0.01389475\", \"0.015184225\", \"0.04742108\", \"0.048710555\", \"0.05\", \"0.04226318\", \"0.043552655\", \"0.04484213\", \"0.046131605\", \"0.03968423\", \"0.040973705\", \"0.001\", \"0.002289475\", \"0.00357895\", \"0.004868425\", \"0.0061579\", \"0.007447375\", \"0.00873685\", \"0.0113158\", \"0.010026325\", \"0.012605275\"]\n",
    "kVals = sorted(kVals, key = lambda x: float(x))\n",
    "fileNames = map(lambda x : 'logFiles/dla_' + x + '.log', kVals)\n",
    "\n",
    "saTable = defaultdict(lambda : defaultdict(list)) # (n, k) : [sa, ...]\n",
    "for fi in fileNames:\n",
    "    with open(fi, 'r') as fp:\n",
    "        data = fp.readlines()\n",
    "        data = map(lambda x : eval(x.strip('\\n')), data)\n",
    "        \n",
    "    for point in data:\n",
    "        saTable[point['n']][point['k']].append(point['sa'])\n",
    "        \n",
    "for n in saTable.keys():\n",
    "    if n > 20000:\n",
    "        del saTable[n]\n",
    "        continue\n",
    "        \n",
    "    for k, val in saTable[n].iteritems():\n",
    "        saTable[n][k] = np.mean(val) / n"
   ]
  },
  {
   "cell_type": "code",
   "execution_count": 28,
   "metadata": {},
   "outputs": [
    {
     "data": {
      "text/plain": [
       "((7800,), (7800,))"
      ]
     },
     "execution_count": 28,
     "metadata": {},
     "output_type": "execute_result"
    }
   ],
   "source": [
    "allData = [sorted(saTable[n].items(), key = lambda x : x[0]) for n in range(100, 20001, 100)]\n",
    "allX = np.array(reduce(lambda a, b : a + b, map(lambda x : map(lambda y : y[1], x), allData)))\n",
    "ally = np.array(reduce(lambda a, b : a + b, map(lambda x : map(lambda y : np.log2(y[0]), x), allData)))\n",
    "allX.shape, ally.shape"
   ]
  },
  {
   "cell_type": "markdown",
   "metadata": {},
   "source": [
    "### Estimation function (window regressor)"
   ]
  },
  {
   "cell_type": "code",
   "execution_count": 136,
   "metadata": {},
   "outputs": [],
   "source": [
    "def makeKEstimationAllData(filePath, size):\n",
    "\n",
    "    dla = DLA(size, 1)\n",
    "    dla.loadState(filePath)\n",
    "    dla.printState()\n",
    "    \n",
    "    n = dla.state[dla.state == 1].shape[0] # Count number of particles\n",
    "    averageSA = float(dla.getSurfaceArea()) / n\n",
    "        \n",
    "    # Fit polynomial\n",
    "    coeffs = np.polyfit(allX, ally, 3)\n",
    "    f = np.poly1d(coeffs)\n",
    "    \n",
    "    # Make prediction\n",
    "    pred = f(averageSA)\n",
    "    \n",
    "    return 2 ** pred\n"
   ]
  },
  {
   "cell_type": "code",
   "execution_count": 165,
   "metadata": {},
   "outputs": [],
   "source": [
    "def makeKEstimationWindow(filePath, size):\n",
    "\n",
    "    dla = DLA(size, 1)\n",
    "    dla.loadState(filePath)\n",
    "    dla.printState()\n",
    "    \n",
    "    n = dla.state[dla.state == 1].shape[0] # Count number of particles\n",
    "    averageSA = float(dla.getSurfaceArea()) / n\n",
    "        \n",
    "    # Select window to fit polynomial\n",
    "    n = (n / 100) * 39   # Round to nearest 100\n",
    "    left  = max(0, n - 10 * 39)\n",
    "    right = n + 10 * 39\n",
    "    \n",
    "    # No simulation data available, take last window\n",
    "    if n >= allX.shape[0]:\n",
    "        left = allX.shape[0] - 20 * 39\n",
    "        \n",
    "    # Extract data to fit polynomial\n",
    "    trainX = allX[left : right]\n",
    "    trainy = ally[left : right]\n",
    "    \n",
    "    # Fit polynomial\n",
    "    coeffs = np.polyfit(trainX, trainy, 3)\n",
    "    f = np.poly1d(coeffs)\n",
    "    \n",
    "    # Make prediction\n",
    "    pred = f(averageSA)\n",
    "    \n",
    "    return 2 ** pred\n"
   ]
  },
  {
   "cell_type": "markdown",
   "metadata": {},
   "source": [
    "### (I) Test File aggregate_500_6789_0.0255.np\n",
    "#### `size` = 500, `n` = 6789, `k` = 0.0255"
   ]
  },
  {
   "cell_type": "code",
   "execution_count": 166,
   "metadata": {},
   "outputs": [
    {
     "name": "stdout",
     "output_type": "stream",
     "text": [
      "Using all data\n",
      "True : 0.0255\n",
      "Estimated : 0.0280321729052\n",
      "Error in estimate : 0.0025321729052\n",
      "Percentage of range : 5.16769980653 %\n",
      "--------------------------------\n",
      "Using window\n",
      "True : 0.0255\n",
      "Estimated : 0.0272908655447\n",
      "Error in estimate : 0.00179086554471\n",
      "Percentage of range : 3.65482764226 %\n",
      "--------------------------------\n"
     ]
    },
    {
     "data": {
      "image/png": "[encoded data removed]",
      "text/plain": [
       "<matplotlib.figure.Figure at 0x7f3ef276e090>"
      ]
     },
     "metadata": {},
     "output_type": "display_data"
    }
   ],
   "source": [
    "estimated = makeKEstimationAllData('aggregateSamples/aggregate_500_6789_0.0255.np', 500)\n",
    "trueK = 0.0255\n",
    "print 'Using all data'\n",
    "print 'True :', trueK\n",
    "print 'Estimated :', estimated\n",
    "print 'Error in estimate :', np.abs(trueK - estimated) \n",
    "print 'Percentage of range :', np.abs(trueK - estimated)/ (5e-2 - 1e-3) * 100,'%'\n",
    "print '--------------------------------'\n",
    "\n",
    "estimated = makeKEstimationWindow('aggregateSamples/aggregate_500_6789_0.0255.np', 500)\n",
    "trueK = 0.0255\n",
    "print 'Using window'\n",
    "print 'True :', trueK\n",
    "print 'Estimated :', estimated\n",
    "print 'Error in estimate :', np.abs(trueK - estimated) \n",
    "print 'Percentage of range :', np.abs(trueK - estimated)/ (5e-2 - 1e-3) * 100,'%'\n",
    "print '--------------------------------'"
   ]
  },
  {
   "cell_type": "markdown",
   "metadata": {},
   "source": [
    "### (II) Test File aggregate_500_7890_0.0255.np\n",
    "#### `size` = 500, `n` = 7890, `k` = 0.0255"
   ]
  },
  {
   "cell_type": "code",
   "execution_count": 167,
   "metadata": {},
   "outputs": [
    {
     "name": "stdout",
     "output_type": "stream",
     "text": [
      "Using all data\n",
      "True : 0.0255\n",
      "Estimated : 0.0238177782589\n",
      "Error in estimate : 0.00168222174114\n",
      "Percentage of range : 3.43310559417 %\n",
      "--------------------------------\n",
      "Using window\n",
      "True : 0.0255\n",
      "Estimated : 0.0234427685432\n",
      "Error in estimate : 0.00205723145676\n",
      "Percentage of range : 4.19843154441 %\n",
      "--------------------------------\n"
     ]
    },
    {
     "data": {
      "image/png": "[encoded data removed]",
      "text/plain": [
       "<matplotlib.figure.Figure at 0x7f3ef2c9fb50>"
      ]
     },
     "metadata": {},
     "output_type": "display_data"
    }
   ],
   "source": [
    "estimated = makeKEstimationAllData('aggregateSamples/aggregate_500_7890_0.0255.np', 500)\n",
    "trueK = 0.0255\n",
    "print 'Using all data'\n",
    "print 'True :', trueK\n",
    "print 'Estimated :', estimated\n",
    "print 'Error in estimate :', np.abs(trueK - estimated) \n",
    "print 'Percentage of range :', np.abs(trueK - estimated)/ (5e-2 - 1e-3) * 100,'%'\n",
    "print '--------------------------------'\n",
    "\n",
    "estimated = makeKEstimationWindow('aggregateSamples/aggregate_500_7890_0.0255.np', 500)\n",
    "trueK = 0.0255\n",
    "print 'Using window'\n",
    "print 'True :', trueK\n",
    "print 'Estimated :', estimated\n",
    "print 'Error in estimate :', np.abs(trueK - estimated) \n",
    "print 'Percentage of range :', np.abs(trueK - estimated)/ (5e-2 - 1e-3) * 100,'%'\n",
    "print '--------------------------------'"
   ]
  },
  {
   "cell_type": "markdown",
   "metadata": {},
   "source": [
    "### (III) Test File aggregate_500_9500_0.04.np\n",
    "#### `size` = 500, `n` = 9500, `k` = 0.04"
   ]
  },
  {
   "cell_type": "code",
   "execution_count": 168,
   "metadata": {},
   "outputs": [
    {
     "name": "stdout",
     "output_type": "stream",
     "text": [
      "Using all data\n",
      "True : 0.04\n",
      "Estimated : 0.0357540445549\n",
      "Error in estimate : 0.00424595544506\n",
      "Percentage of range : 8.665215194 %\n",
      "--------------------------------\n",
      "Using window\n",
      "True : 0.04\n",
      "Estimated : 0.0360035155773\n",
      "Error in estimate : 0.00399648442271\n",
      "Percentage of range : 8.15609065859 %\n",
      "--------------------------------\n"
     ]
    },
    {
     "data": {
      "image/png": "[encoded data removed]",
      "text/plain": [
       "<matplotlib.figure.Figure at 0x7f3ef2baaa10>"
      ]
     },
     "metadata": {},
     "output_type": "display_data"
    }
   ],
   "source": [
    "estimated = makeKEstimationAllData('aggregateSamples/aggregate_500_9500_0.04.np', 500)\n",
    "trueK = 0.04\n",
    "print 'Using all data'\n",
    "print 'True :', trueK\n",
    "print 'Estimated :', estimated\n",
    "print 'Error in estimate :', np.abs(trueK - estimated) \n",
    "print 'Percentage of range :', np.abs(trueK - estimated)/ (5e-2 - 1e-3) * 100,'%'\n",
    "print '--------------------------------'\n",
    "\n",
    "estimated = makeKEstimationWindow('aggregateSamples/aggregate_500_9500_0.04.np', 500)\n",
    "trueK = 0.04\n",
    "print 'Using window'\n",
    "print 'True :', trueK\n",
    "print 'Estimated :', estimated\n",
    "print 'Error in estimate :', np.abs(trueK - estimated) \n",
    "print 'Percentage of range :', np.abs(trueK - estimated)/ (5e-2 - 1e-3) * 100,'%'\n",
    "print '--------------------------------'"
   ]
  },
  {
   "cell_type": "markdown",
   "metadata": {},
   "source": [
    "### (IV) Test File aggregate_500_19500_0.04.np\n",
    "#### `size` = 500, `n` = 19500, `k` = 0.04"
   ]
  },
  {
   "cell_type": "code",
   "execution_count": 169,
   "metadata": {},
   "outputs": [
    {
     "name": "stdout",
     "output_type": "stream",
     "text": [
      "Using all data\n",
      "True : 0.04\n",
      "Estimated : 0.036457102575\n",
      "Error in estimate : 0.003542897425\n",
      "Percentage of range : 7.23040290816 %\n",
      "--------------------------------\n",
      "Using window\n",
      "True : 0.04\n",
      "Estimated : 0.0367738095478\n",
      "Error in estimate : 0.00322619045222\n",
      "Percentage of range : 6.5840621474 %\n",
      "--------------------------------\n"
     ]
    },
    {
     "data": {
      "image/png": "[encoded data removed]",
      "text/plain": [
       "<matplotlib.figure.Figure at 0x7f3ef2c6ad50>"
      ]
     },
     "metadata": {},
     "output_type": "display_data"
    }
   ],
   "source": [
    "estimated = makeKEstimationAllData('aggregateSamples/aggregate_500_19500_0.04.np', 500)\n",
    "trueK = 0.04\n",
    "print 'Using all data'\n",
    "print 'True :', trueK\n",
    "print 'Estimated :', estimated\n",
    "print 'Error in estimate :', np.abs(trueK - estimated) \n",
    "print 'Percentage of range :', np.abs(trueK - estimated)/ (5e-2 - 1e-3) * 100,'%'\n",
    "print '--------------------------------'\n",
    "\n",
    "estimated = makeKEstimationWindow('aggregateSamples/aggregate_500_19500_0.04.np', 500)\n",
    "trueK = 0.04\n",
    "print 'Using window'\n",
    "print 'True :', trueK\n",
    "print 'Estimated :', estimated\n",
    "print 'Error in estimate :', np.abs(trueK - estimated) \n",
    "print 'Percentage of range :', np.abs(trueK - estimated)/ (5e-2 - 1e-3) * 100,'%'\n",
    "print '--------------------------------'"
   ]
  },
  {
   "cell_type": "markdown",
   "metadata": {},
   "source": [
    "### (V) Test File aggregate_500_29500_0.04.np\n",
    "#### `size` = 500, `n` = 29500, `k` = 0.04"
   ]
  },
  {
   "cell_type": "code",
   "execution_count": 172,
   "metadata": {},
   "outputs": [
    {
     "name": "stdout",
     "output_type": "stream",
     "text": [
      "Using all data\n",
      "True : 0.04\n",
      "Estimated : 0.0378346077619\n",
      "Error in estimate : 0.0021653922381\n",
      "Percentage of range : 4.41916783285 %\n",
      "--------------------------------\n",
      "Using window\n",
      "True : 0.04\n",
      "Estimated : 0.0386455407445\n",
      "Error in estimate : 0.00135445925546\n",
      "Percentage of range : 2.76420256216 %\n",
      "--------------------------------\n"
     ]
    },
    {
     "data": {
      "image/png": "[encoded data removed]",
      "text/plain": [
       "<matplotlib.figure.Figure at 0x7f3ef6f42490>"
      ]
     },
     "metadata": {},
     "output_type": "display_data"
    }
   ],
   "source": [
    "estimated = makeKEstimationAllData('aggregateSamples/aggregate_500_29500_0.04.np', 500)\n",
    "trueK = 0.04\n",
    "print 'Using all data'\n",
    "print 'True :', trueK\n",
    "print 'Estimated :', estimated\n",
    "print 'Error in estimate :', np.abs(trueK - estimated) \n",
    "print 'Percentage of range :', np.abs(trueK - estimated)/ (5e-2 - 1e-3) * 100,'%'\n",
    "print '--------------------------------'\n",
    "\n",
    "estimated = makeKEstimationWindow('aggregateSamples/aggregate_500_29500_0.04.np', 500)\n",
    "trueK = 0.04\n",
    "print 'Using window'\n",
    "print 'True :', trueK\n",
    "print 'Estimated :', estimated\n",
    "print 'Error in estimate :', np.abs(trueK - estimated) \n",
    "print 'Percentage of range :', np.abs(trueK - estimated)/ (5e-2 - 1e-3) * 100,'%'\n",
    "print '--------------------------------'"
   ]
  },
  {
   "cell_type": "code",
   "execution_count": null,
   "metadata": {},
   "outputs": [],
   "source": []
  }
 ],
 "metadata": {
  "kernelspec": {
   "display_name": "Python 2",
   "language": "python",
   "name": "python2"
  },
  "language_info": {
   "codemirror_mode": {
    "name": "ipython",
    "version": 2
   },
   "file_extension": ".py",
   "mimetype": "text/x-python",
   "name": "python",
   "nbconvert_exporter": "python",
   "pygments_lexer": "ipython2",
   "version": "2.7.12"
  }
 },
 "nbformat": 4,
 "nbformat_minor": 2
}
